{
 "cells": [
  {
   "cell_type": "code",
   "execution_count": 189,
   "id": "0d7b6ac3",
   "metadata": {},
   "outputs": [
    {
     "name": "stdout",
     "output_type": "stream",
     "text": [
      "x shape:(1000, 57)\n",
      "y shape:(1000,)\n",
      "x train shape:(900, 57)\n",
      "y train shape:(900,)\n",
      "x test shape:(100, 57)\n",
      "y test shape:(100,)\n"
     ]
    }
   ],
   "source": [
    "import pandas as pd\n",
    "from sklearn.pipeline import make_pipeline\n",
    "from sklearn.preprocessing import StandardScaler\n",
    "from sklearn.svm import LinearSVC, SVC\n",
    "from sklearn.multiclass import OneVsRestClassifier\n",
    "import numpy as np\n",
    "import math\n",
    "\n",
    "def cost_estimate(genres, y_test):\n",
    "    m = y_test.shape[0]\n",
    "    cost = sum((genres!=y_test))/m\n",
    "    return cost\n",
    "\n",
    "def take_m_rows_every_n(data, m, n):\n",
    "    # returns 2 1d or 2d matrices \n",
    "    # first one contains the first m out of every n datapoints\n",
    "    # second one contains the remainingi n-m out of every n datapoints\n",
    "    # bound to be a better way to do this... some kind of pandas mask?\n",
    "    size = data.shape[0]\n",
    "    train_size = math.ceil(size * m / n)\n",
    "    test_size = math.floor(size * (n-m) / n)\n",
    "    \n",
    "    if len(data.shape) > 1:\n",
    "        data_first = np.empty((train_size, data.shape[1])) # if not exact integer will make a mess\n",
    "        data_second = np.empty((test_size, data.shape[1]))\n",
    "    else:\n",
    "        data_first = np.empty((train_size)) # if not exact integer will make a mess\n",
    "        data_second = np.empty((test_size))\n",
    "    i=0\n",
    "    j=0\n",
    "    for idx, row in enumerate(data):\n",
    "        if idx%both < take:\n",
    "            data_first[i] = row\n",
    "            i+=1\n",
    "        else:\n",
    "            data_second[j] = row\n",
    "            j+=1\n",
    "    return data_first, data_second\n",
    "\n",
    "\n",
    "if __name__ == \"__main__\":\n",
    "    \n",
    "    df = pd.read_csv (r'features_30_sec.csv')\n",
    "    # print (df)\n",
    "\n",
    "    x = df.to_numpy()[:,2:-1]\n",
    "    # print(X)\n",
    "    print(f\"x shape:{x.shape}\")\n",
    "\n",
    "    y_as_word = df.to_numpy()[:,-1].T\n",
    "    # print(Y)\n",
    "    print(f\"y shape:{y_as_word.shape}\")\n",
    "\n",
    "    classes_dict = {\n",
    "        \"blues\" : 0,\n",
    "        \"classical\" : 1,\n",
    "        \"country\" : 2,\n",
    "        \"disco\" : 3,\n",
    "        \"hiphop\" : 4,\n",
    "        \"jazz\" : 5,\n",
    "        \"metal\" : 6,\n",
    "        \"pop\" : 7,\n",
    "        \"reggae\" : 8,\n",
    "        \"rock\" : 9,\n",
    "    }\n",
    "\n",
    "    y = np.array([classes_dict[genre] for genre in y_as_word])\n",
    "    # print(y)\n",
    "\n",
    "    x_train, x_test = take_m_rows_every_n(x, 90, 100)\n",
    "    y_train, y_test = take_m_rows_every_n(y, 90, 100)\n",
    "                                   \n",
    "    print(f\"x train shape:{x_train.shape}\")\n",
    "    print(f\"y train shape:{y_train.shape}\")   \n",
    "    print(f\"x test shape:{x_test.shape}\")\n",
    "    print(f\"y test shape:{y_test.shape}\") \n",
    "    "
   ]
  },
  {
   "cell_type": "code",
   "execution_count": 190,
   "id": "a29c31b0",
   "metadata": {},
   "outputs": [
    {
     "name": "stdout",
     "output_type": "stream",
     "text": [
      "[0 2 0 0 0 0 2 2 6 5 1 1 1 1 1 1 1 1 1 1 2 2 6 2 2 9 9 2 2 0 3 3 9 3 3 6 6\n",
      " 6 4 4 4 6 4 8 4 6 8 4 4 4 5 5 5 7 5 5 5 5 5 5 5 9 2 6 6 4 4 6 6 4 7 7 7 7\n",
      " 7 7 7 7 3 7 7 8 8 2 2 7 8 8 9 6 5 6 6 9 6 2 9 6 2 6]\n",
      "0.41\n"
     ]
    }
   ],
   "source": [
    "    # linear kernel, from what I read appears to be somewhat optimised\n",
    "    \n",
    "    clf = make_pipeline(StandardScaler(),\n",
    "                        LinearSVC(random_state=0, tol=1e-5, dual=False))\n",
    "    clf.fit(x_train, y_train)\n",
    "    \n",
    "    results = clf.decision_function(x_test)\n",
    "    genres = results.argmax(axis=1)\n",
    "    m = y_test.shape[0]\n",
    "    print(genres)    \n",
    "    print(cost_estimate(genres, y_test))"
   ]
  },
  {
   "cell_type": "code",
   "execution_count": 191,
   "id": "4c0b5bb7",
   "metadata": {},
   "outputs": [
    {
     "name": "stdout",
     "output_type": "stream",
     "text": [
      "[0 2 0 1 0 0 0 2 6 5 1 1 1 1 1 1 1 1 1 5 2 2 6 2 2 2 2 2 2 0 3 3 9 3 3 3 4\n",
      " 3 3 3 4 4 4 6 8 6 2 4 4 4 5 5 5 5 5 5 5 5 5 5 9 0 0 6 6 6 6 6 6 6 7 7 7 7\n",
      " 7 7 7 7 7 7 8 8 8 8 2 2 8 5 9 6 5 6 6 9 6 2 9 6 2 9]\n",
      "0.29\n"
     ]
    }
   ],
   "source": [
    "    # gaussian kernel\n",
    "    \n",
    "    clf = make_pipeline(StandardScaler(),OneVsRestClassifier(SVC(kernel='rbf')).fit(X, y))\n",
    "    clf.fit(x_train, y_train)\n",
    "    \n",
    "    results = clf.decision_function(x_test)\n",
    "    \n",
    "    genres = results.argmax(axis=1)\n",
    "    m = y_test.shape[0]\n",
    "    print(genres)    \n",
    "    print(cost_estimate(genres, y_test))\n",
    "    # better but still pretty bad.."
   ]
  },
  {
   "cell_type": "code",
   "execution_count": 170,
   "id": "77e47006",
   "metadata": {},
   "outputs": [
    {
     "name": "stdout",
     "output_type": "stream",
     "text": [
      "(900, 57)\n",
      "(100, 57)\n"
     ]
    }
   ],
   "source": []
  },
  {
   "cell_type": "code",
   "execution_count": null,
   "id": "2c1c7fc0",
   "metadata": {},
   "outputs": [],
   "source": []
  },
  {
   "cell_type": "code",
   "execution_count": null,
   "id": "96a69f23",
   "metadata": {},
   "outputs": [],
   "source": []
  }
 ],
 "metadata": {
  "kernelspec": {
   "display_name": "Python 3 (ipykernel)",
   "language": "python",
   "name": "python3"
  },
  "language_info": {
   "codemirror_mode": {
    "name": "ipython",
    "version": 3
   },
   "file_extension": ".py",
   "mimetype": "text/x-python",
   "name": "python",
   "nbconvert_exporter": "python",
   "pygments_lexer": "ipython3",
   "version": "3.10.0"
  }
 },
 "nbformat": 4,
 "nbformat_minor": 5
}
